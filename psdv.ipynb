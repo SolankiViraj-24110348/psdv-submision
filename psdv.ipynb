{
 "cells": [
  {
   "cell_type": "markdown",
   "id": "9570b5a7-adfc-4148-a7a8-56e41fa4e293",
   "metadata": {},
   "source": [
    "**Question 1**"
   ]
  },
  {
   "cell_type": "code",
   "execution_count": 49,
   "id": "46bb39ef-60ce-4496-9008-4a5cba81e4e8",
   "metadata": {},
   "outputs": [
    {
     "name": "stdout",
     "output_type": "stream",
     "text": [
      "[1, 2, 3, 4, 5, 6, 7, 8, 9, 10, 11, 12, 13, 14, 15, 16, 17, 18, 19, 20]\n",
      "110\n",
      "100\n",
      "10.5\n",
      "10.5\n"
     ]
    },
    {
     "data": {
      "text/plain": [
       "(110, 10.5, 10.5, 5.766281297335398)"
      ]
     },
     "execution_count": 49,
     "metadata": {},
     "output_type": "execute_result"
    }
   ],
   "source": [
    "list=[]\n",
    "for i in range(1,21):\n",
    "    list.append(i)\n",
    "print(list)\n",
    "x=0\n",
    "for i in range(20):\n",
    "    i=int(list[i])\n",
    "    a=i%2\n",
    "    if a==0:\n",
    "        x=x+i\n",
    "    else:\n",
    "        continue\n",
    "print(x) #even sum\n",
    "y=0\n",
    "for i in range(20):\n",
    "    i=int(list[i])\n",
    "    a=i%2\n",
    "    if a==1:\n",
    "        y=y+i\n",
    "    else:\n",
    "        continue\n",
    "print(y)  #odd sum\n",
    "z=x+y   #total\n",
    "p=z/len(list)\n",
    "print(p)   #mean\n",
    "\n",
    "\n",
    "\n",
    "l=len(list)\n",
    "a=l%2\n",
    "# if no. of entry is odd then median will be entry at (total no.+1)/2\n",
    "# if no. of entry is even then median will be avg. of entry at (total no.)/2 and ((total no.)/2)+1\n",
    "if a==1:\n",
    "    q=list[(int(l+1))/2-(1)]\n",
    "    print(q)\n",
    "if a==0:\n",
    "    q=(list[int(l/2)-(1)]+list[int(l/2)+1-(1)])/2                #-1 because index start from 0\n",
    "    print(q)\n",
    "\n",
    "sqr=0\n",
    "for i in range(20):\n",
    "    i=list[i]\n",
    "    sqr=sqr+i**2\n",
    "#sqr is sum of square\n",
    "#standard deviation= [(sqr/total entry) - (mean)**2]**(1/2)\n",
    "sd=((sqr/l)-p**2)**(1/2)\n",
    "x,p,q,sd"
   ]
  },
  {
   "cell_type": "markdown",
   "id": "2b20b6d5-71c5-4a47-8b8e-e58bec070cba",
   "metadata": {},
   "source": [
    "**question2**"
   ]
  },
  {
   "cell_type": "code",
   "execution_count": null,
   "id": "e7b7c288-6d48-4026-92cd-20432bcf4429",
   "metadata": {},
   "outputs": [],
   "source": [
    "#immutable: we cannot change them , such as tuples\n",
    "#mutable: we can chaange them , (list)"
   ]
  },
  {
   "cell_type": "markdown",
   "id": "219f9868-6d9d-462a-b620-228dd9c52f19",
   "metadata": {},
   "source": [
    "**question3**"
   ]
  },
  {
   "cell_type": "code",
   "execution_count": 44,
   "id": "8257db63-30fa-43b1-9175-735d42918b4c",
   "metadata": {},
   "outputs": [
    {
     "data": {
      "image/png": "[encoded data removed]",
      "text/plain": [
       "<Figure size 640x480 with 1 Axes>"
      ]
     },
     "metadata": {},
     "output_type": "display_data"
    }
   ],
   "source": [
    "n=10\n",
    "def fibo(n):\n",
    "    if n==0:\n",
    "        return 1\n",
    "    if n==1:\n",
    "        return 1\n",
    "    if n==2:\n",
    "        return 2\n",
    "    else:\n",
    "        return fibo(n-1)+fibo(n-2)\n",
    "list=[]\n",
    "for i in range(10):\n",
    "    list.append(fibo(i))\n",
    "import matplotlib.pyplot as plt\n",
    "plt.plot(list)\n",
    "plt.show()"
   ]
  },
  {
   "cell_type": "markdown",
   "id": "a1124559-b19d-400d-9b1c-8fa10d9473ee",
   "metadata": {},
   "source": [
    "**question4**"
   ]
  },
  {
   "cell_type": "code",
   "execution_count": 45,
   "id": "4efe5c59-e80c-4474-828f-b7d2740bb317",
   "metadata": {},
   "outputs": [
    {
     "data": {
      "text/plain": [
       "([13, 11, 9, 6, 5, 3], 7.833333333333333, 7.5)"
      ]
     },
     "execution_count": 45,
     "metadata": {},
     "output_type": "execute_result"
    }
   ],
   "source": [
    "list=[3, 5, 7, 9, 11, 13]\n",
    "list.insert(3,6) #for inserting 6\n",
    "list.remove(7) #for remooving 7\n",
    "list.reverse()#for reversing list\n",
    "x=0\n",
    "for i in range(len(list)):\n",
    "    i=list[i]\n",
    "    x=x+int(i)\n",
    "mean=x/len(list)\n",
    "\n",
    "\n",
    "# for median of new modified list\n",
    "a=len(list)%2\n",
    "l=len(list)\n",
    "mid=(list[l//2]+list[l//2 - 1])/2\n",
    "list,mean,mid"
   ]
  },
  {
   "cell_type": "markdown",
   "id": "5df6f978-0a7b-47ea-a3dd-aee6d6914cf2",
   "metadata": {},
   "source": [
    "**question5**"
   ]
  },
  {
   "cell_type": "code",
   "execution_count": 46,
   "id": "287bf5d8-320c-4f4d-af55-94f61cce30d9",
   "metadata": {},
   "outputs": [
    {
     "data": {
      "text/plain": [
       "(['10', '20', '30', '40', '50'], 30.0, 10, 50)"
      ]
     },
     "execution_count": 46,
     "metadata": {},
     "output_type": "execute_result"
    }
   ],
   "source": [
    "a='10,20,30,40,50'\n",
    "list=a.split(',') #making sepration within \",\". \n",
    "list\n",
    "l=len(list)\n",
    "x=0\n",
    "for i in range(l):\n",
    "    i=int(list[i])\n",
    "    x=x+i\n",
    "list1=[]\n",
    "for i in range(l):\n",
    "    list1.append(int(list[i]))  #to make list of integer\n",
    "m=x/l #mean\n",
    "list1.sort() #to make incresing order\n",
    "x=int(list1[0])   #smallet\n",
    "y=int(list1[l-1]) #large\n",
    "list,m,x, y"
   ]
  },
  {
   "cell_type": "markdown",
   "id": "3803d9a7-57cb-4eab-966d-3af2ebac7702",
   "metadata": {},
   "source": [
    "**question6**"
   ]
  },
  {
   "cell_type": "code",
   "execution_count": 47,
   "id": "1d8067c9-934e-47b9-a95b-1989e52a4657",
   "metadata": {},
   "outputs": [
    {
     "name": "stdout",
     "output_type": "stream",
     "text": [
      "True\n"
     ]
    }
   ],
   "source": [
    "a=\"A man a plan a canal Panama\"\n",
    "l1=a.split(' ')\n",
    "b=''\n",
    "c1=len(l1)\n",
    "for i in range(c1):\n",
    "    b=b+l1[i]\n",
    "b=b.upper() #converting all charecter to upper case to ingnore diffrent case problem\n",
    "# b is the string without spaces\n",
    "c2=len(b)\n",
    "l2=[]\n",
    "for i in range(c2):\n",
    "    l2.append(b[i])\n",
    "#l2 is list with all individual charecter as entry \n",
    "c=''\n",
    "for i in range(c2):\n",
    "    c=c+l2[c2-i-1]\n",
    "# c is tring of having revers order\n",
    "if b==c:\n",
    "    print('True')\n",
    "else:\n",
    "    print(\"False\")"
   ]
  },
  {
   "cell_type": "markdown",
   "id": "8bf671d5-b243-4e85-8f4a-2f7c2f9ffa5b",
   "metadata": {},
   "source": [
    "**questions7**"
   ]
  },
  {
   "cell_type": "code",
   "execution_count": 34,
   "id": "68312c16-ebe4-4816-9817-20f7b06d90e1",
   "metadata": {},
   "outputs": [
    {
     "name": "stdout",
     "output_type": "stream",
     "text": [
      "['student3', 'student6']\n"
     ]
    },
    {
     "data": {
      "text/plain": [
       "<BarContainer object of 6 artists>"
      ]
     },
     "execution_count": 34,
     "metadata": {},
     "output_type": "execute_result"
    },
    {
     "data": {
      "image/png": "[encoded data removed]",
      "text/plain": [
       "<Figure size 640x480 with 1 Axes>"
      ]
     },
     "metadata": {},
     "output_type": "display_data"
    }
   ],
   "source": [
    "dict={'student1':80,'studen2':76,'student3':94,'student4':71,'student5':79,'student6':87}\n",
    "sum1=0\n",
    "for i in dict.values():\n",
    "    sum1=sum1+i\n",
    "avg=sum1/len(dict)\n",
    "above_avg=[]\n",
    "for i,j in dict.items():\n",
    "    if j>avg:\n",
    "        above_avg.append(i)\n",
    "print(above_avg)\n",
    "list1=dict.keys()\n",
    "list2=dict.values()\n",
    "import matplotlib.pyplot as plt\n",
    "plt.bar(list1,list2)"
   ]
  },
  {
   "cell_type": "markdown",
   "id": "705470c2-f6b8-4267-9a03-ab7a69f50faf",
   "metadata": {},
   "source": [
    "**question8**"
   ]
  },
  {
   "cell_type": "code",
   "execution_count": 42,
   "id": "3f8b970c-c013-45e9-a127-1275cc122b9c",
   "metadata": {},
   "outputs": [
    {
     "data": {
      "text/plain": [
       "[(1, 1),\n",
       " (2, 4),\n",
       " (3, 9),\n",
       " (4, 16),\n",
       " (5, 25),\n",
       " (6, 36),\n",
       " (7, 49),\n",
       " (8, 64),\n",
       " (9, 81),\n",
       " (10, 100)]"
      ]
     },
     "execution_count": 42,
     "metadata": {},
     "output_type": "execute_result"
    },
    {
     "data": {
      "image/png": "[encoded data removed]",
      "text/plain": [
       "<Figure size 640x480 with 1 Axes>"
      ]
     },
     "metadata": {},
     "output_type": "display_data"
    }
   ],
   "source": [
    "list=[]\n",
    "for i in range(1,11):  #making every tuple and adding it in list\n",
    "    tup=()\n",
    "    tup=tup+(i,i**2)\n",
    "    list.append(tup)\n",
    "sqr_list=[i**2 for i in range(1,11)]\n",
    "num=[i for i in range(1,11)]\n",
    "import matplotlib.pyplot as plt\n",
    "plt.scatter(num,sqr_list)\n",
    "list\n"
   ]
  },
  {
   "cell_type": "markdown",
   "id": "b8bda4f3-2642-455e-acdc-d7c098a74aa1",
   "metadata": {},
   "source": [
    "**question10**"
   ]
  },
  {
   "cell_type": "code",
   "execution_count": 70,
   "id": "d8673d9e-37c0-4e2e-a3f0-0d0c005c7c8d",
   "metadata": {},
   "outputs": [
    {
     "name": "stdout",
     "output_type": "stream",
     "text": [
      "{'e': 1, 'f': 1, 'g': 1, 'h': 1, 'i': 2, 'l': 2, 'm': 1, 'n': 1, 'o': 2, 't': 1}\n"
     ]
    },
    {
     "data": {
      "text/plain": [
       "<BarContainer object of 10 artists>"
      ]
     },
     "execution_count": 70,
     "metadata": {},
     "output_type": "execute_result"
    },
    {
     "data": {
      "image/png": "[encoded data removed]",
      "text/plain": [
       "<Figure size 640x480 with 1 Axes>"
      ]
     },
     "metadata": {},
     "output_type": "display_data"
    }
   ],
   "source": [
    "n='hellofomIITGN'\n",
    "n=n.lower()\n",
    "l=len(n)\n",
    "dict={}\n",
    "#asci for a is 97 and z is 122\n",
    "for i in range(97,123):\n",
    "    a=chr(i)\n",
    "    b=n.count(a)\n",
    "    if b>0:\n",
    "        dict.update({a:b})\n",
    "    else:\n",
    "        continue\n",
    "print(dict)\n",
    "key=dict.keys()\n",
    "value=dict.values()\n",
    "import matplotlib.pyplot as plt\n",
    "plt.bar(key,value)"
   ]
  },
  {
   "cell_type": "markdown",
   "id": "7e673f2b-1d99-47a4-9b81-7bb5d0cdcf42",
   "metadata": {},
   "source": [
    "**quesrions11**"
   ]
  },
  {
   "cell_type": "code",
   "execution_count": 64,
   "id": "684b80d1-975d-4d1f-a34b-c57f02ac2146",
   "metadata": {},
   "outputs": [
    {
     "name": "stdout",
     "output_type": "stream",
     "text": [
      "311\n",
      "42.0\n"
     ]
    }
   ],
   "source": [
    "list1 = [12, 45, 39, 45, 84, 97, 12, 34]\n",
    "a = []\n",
    "a.append(list1[0])\n",
    "for i in range(1, len(list1)):\n",
    "    if list1[i] not in a:\n",
    "        a.append(list1[i])\n",
    "sum=0\n",
    "for i in range(len(a)):\n",
    "    sum=sum+a[i]\n",
    "mean=sum/len(a)\n",
    "print(sum)\n",
    "a.sort()\n",
    "l=len(a)\n",
    "b=l%2\n",
    "if b==1:\n",
    "    mid=a[(l+1)/2-1]\n",
    "else:\n",
    "    mid=(1/2)*(a[int(l/2)]+a[int(l/2)-1])\n",
    "print(mid)"
   ]
  },
  {
   "cell_type": "markdown",
   "id": "01065e09-319f-46b2-8ec2-083cf2a12ea4",
   "metadata": {},
   "source": [
    "**question12**"
   ]
  },
  {
   "cell_type": "code",
   "execution_count": 65,
   "id": "312f5898-0ed5-4f8d-98c5-bb01d7dd7cae",
   "metadata": {},
   "outputs": [
    {
     "name": "stdout",
     "output_type": "stream",
     "text": [
      "12\n",
      "2\n"
     ]
    }
   ],
   "source": [
    "list=['ello','EGFHJKJSNND','gjja AJFBcsa','!AnvsJn cnav']  # a list with random string as entry\n",
    "l1=len(list)\n",
    "a1=[]\n",
    "a2=[]\n",
    "a3=['a','e','i','o','u']\n",
    "for i in range(l1):\n",
    "    i=list[i]\n",
    "    i=i.lower()          # converting to lowe case\n",
    "    l2=len(i)\n",
    "    a1.append(l2)\n",
    "    for j in range(5):\n",
    "        j=a3[j]\n",
    "        if j==i[0]:\n",
    "            a2.append(i)\n",
    "            break\n",
    "# a1 is list of length of string\n",
    "# a2 is list with string which start with vowels\n",
    "a1.sort(reverse=True)  #making string in decending order\n",
    "print(a1[0])  #max\n",
    "print(len(a2))  #no. of string which start with vowel"
   ]
  },
  {
   "cell_type": "markdown",
   "id": "58ba0541-b452-4b49-bc61-85e888815330",
   "metadata": {},
   "source": [
    "**question14**"
   ]
  },
  {
   "cell_type": "code",
   "execution_count": 96,
   "id": "128a2e9a-fb46-43bb-823f-fefba3a8a090",
   "metadata": {},
   "outputs": [
    {
     "name": "stdout",
     "output_type": "stream",
     "text": [
      "['from', 'hello', 'IITGN']\n"
     ]
    },
    {
     "data": {
      "text/plain": [
       "<BarContainer object of 3 artists>"
      ]
     },
     "execution_count": 96,
     "metadata": {},
     "output_type": "execute_result"
    },
    {
     "data": {
      "image/png": "[encoded data removed]",
      "text/plain": [
       "<Figure size 640x480 with 1 Axes>"
      ]
     },
     "metadata": {},
     "output_type": "display_data"
    }
   ],
   "source": [
    "a='hello I am from IITGN'\n",
    "list=a.split(' ')\n",
    "list2=[]\n",
    "for i in range(len(list)):\n",
    "    b=i\n",
    "    i=list[i]\n",
    "    if len(i)<4:\n",
    "        continue\n",
    "    else:\n",
    "        list2.append(list[b])\n",
    "# list2 is list with string having more than 4 charecter\n",
    "list3=sorted(list2, key=lambda x: x[0].lower()) #converting in lower case then sorting in alphabetical order\n",
    "print(list3)\n",
    "list4=[len(list[i]) for i in range(len(list3))]\n",
    "import matplotlib.pyplot as plt\n",
    "plt.bar(list3,list4)"
   ]
  },
  {
   "cell_type": "markdown",
   "id": "3ab7a9f0-3419-4700-9aa2-6fc8bc88cb06",
   "metadata": {},
   "source": [
    "**question15**"
   ]
  },
  {
   "cell_type": "code",
   "execution_count": 74,
   "id": "f6ed3519-40f7-47c3-a232-c84d501225d6",
   "metadata": {},
   "outputs": [
    {
     "name": "stdout",
     "output_type": "stream",
     "text": [
      "['enlist', 'inlets']\n"
     ]
    }
   ],
   "source": [
    "word = \"listen\"\n",
    "words = [\"enlist\", \"google\", \"inlets\", \"banana\"]\n",
    "list1=[word[i] for i in range(len(word))]  #making list of individual charecter\n",
    "list1=sorted(list1, key=lambda x: x[0].lower())         # rearanging them in alpha betical order\n",
    "flist=[]\n",
    "for i in range(len(words)):\n",
    "    i=words[i]\n",
    "    l1=len(i)\n",
    "    l2=len(word)\n",
    "    if l1!=l2:\n",
    "        continue\n",
    "    if l1==l2:\n",
    "        list3=[i[j] for j in range(len(i))]\n",
    "        list3=sorted(list3, key=lambda x: x[0].lower())\n",
    "        if list1!=list3:\n",
    "            continue\n",
    "        else:\n",
    "            flist.append(i)\n",
    "print(flist)"
   ]
  },
  {
   "cell_type": "markdown",
   "id": "3f3d92fc-e8b7-44dd-8828-4772d5011c15",
   "metadata": {},
   "source": [
    "**question17**"
   ]
  },
  {
   "cell_type": "code",
   "execution_count": 82,
   "id": "0afb4015-81e1-4d7e-8a6b-c5fa55293c8d",
   "metadata": {},
   "outputs": [
    {
     "name": "stdout",
     "output_type": "stream",
     "text": [
      "750\n"
     ]
    }
   ],
   "source": [
    "with open(\"list.txt\", \"w\") as file_num:\n",
    "    for i in range(1, 100,7):\n",
    "        file_num.write(str(i) + \"\\n\")\n",
    "sum=0\n",
    "with open(\"list.txt\", \"r\") as file_num:\n",
    "    for i in file_num:\n",
    "        sum=sum+int(i.strip())\n",
    "print(sum)"
   ]
  },
  {
   "cell_type": "markdown",
   "id": "18aa3732-88ff-4061-9888-e89cf529a554",
   "metadata": {},
   "source": [
    "**question18**"
   ]
  },
  {
   "cell_type": "code",
   "execution_count": 86,
   "id": "f1549b3b-3912-4636-8e05-c175750e6d34",
   "metadata": {
    "scrolled": true
   },
   "outputs": [
    {
     "name": "stdout",
     "output_type": "stream",
     "text": [
      "4\n"
     ]
    },
    {
     "data": {
      "text/plain": [
       "<BarContainer object of 4 artists>"
      ]
     },
     "execution_count": 86,
     "metadata": {},
     "output_type": "execute_result"
    },
    {
     "data": {
      "image/png": "[encoded data removed]",
      "text/plain": [
       "<Figure size 640x480 with 1 Axes>"
      ]
     },
     "metadata": {},
     "output_type": "display_data"
    }
   ],
   "source": [
    "with open(\"file.txt\", \"w\") as i:\n",
    "    i.write(\"hello world again hello\")\n",
    "list1=[]\n",
    "list2=[]\n",
    "with open(\"file.txt\", \"r\") as i:\n",
    "    for line in i:\n",
    "        list3=line.split(' ')\n",
    "        for word in list3:\n",
    "            list1.append(word)\n",
    "        for word in list3:\n",
    "            list2.append(len(word))\n",
    "print(len(list1)) #number of word\n",
    "import matplotlib.pyplot as plt\n",
    "plt.bar(list1,list2)"
   ]
  },
  {
   "cell_type": "markdown",
   "id": "44a23b0a-f0d5-46cf-aead-44635ebe423e",
   "metadata": {},
   "source": [
    "**question21**"
   ]
  },
  {
   "cell_type": "code",
   "execution_count": 91,
   "id": "489a0a59-11cb-4056-8904-fb09970eec04",
   "metadata": {},
   "outputs": [
    {
     "name": "stdout",
     "output_type": "stream",
     "text": [
      "6.444444444444445\n",
      "5\n",
      "39.35802469135802\n",
      "5\n"
     ]
    },
    {
     "data": {
      "text/plain": [
       "<BarContainer object of 4 artists>"
      ]
     },
     "execution_count": 91,
     "metadata": {},
     "output_type": "execute_result"
    },
    {
     "data": {
      "image/png": "[encoded data removed]",
      "text/plain": [
       "<Figure size 640x480 with 1 Axes>"
      ]
     },
     "metadata": {},
     "output_type": "display_data"
    }
   ],
   "source": [
    "list=[4,5,5,12,5,2,22,1,2]\n",
    "sum1=0\n",
    "for i in range(len(list)):\n",
    "    sum1=sum1+list[i]\n",
    "mean=sum1/len(list)\n",
    "print(mean)\n",
    "list.sort()\n",
    "mid=list[int((len(list)+1)/2)]\n",
    "print(mid)\n",
    "sqr=[i**2 for i in list]\n",
    "sqr_sum=0\n",
    "for i in range(len(sqr)):\n",
    "    sqr_sum=sqr_sum+sqr[i]\n",
    "standard_deviation=sqr_sum/len(list)-mean**2\n",
    "print(standard_deviation)\n",
    "import statistics\n",
    "mode=statistics.mode(list)\n",
    "print(mode)\n",
    "key=['mean','median','mode','standard deviation']\n",
    "value=[mean,mid,mode,standard_deviation]\n",
    "import matplotlib.pyplot as plt\n",
    "plt.bar(key,value)"
   ]
  },
  {
   "cell_type": "markdown",
   "id": "fb5e4d38-e924-4ee0-8b03-9815ada798e5",
   "metadata": {},
   "source": [
    "**question22**"
   ]
  },
  {
   "cell_type": "code",
   "execution_count": 92,
   "id": "cfe4b2bc-7ad8-4c6b-a607-f81ac2d1d1da",
   "metadata": {},
   "outputs": [
    {
     "name": "stdout",
     "output_type": "stream",
     "text": [
      "[12, 43, 23, 64, 37, 94]\n"
     ]
    },
    {
     "data": {
      "text/plain": [
       "[<matplotlib.lines.Line2D at 0x225249bd950>]"
      ]
     },
     "execution_count": 92,
     "metadata": {},
     "output_type": "execute_result"
    },
    {
     "data": {
      "image/png": "[encoded data removed]",
      "text/plain": [
       "<Figure size 640x480 with 1 Axes>"
      ]
     },
     "metadata": {},
     "output_type": "display_data"
    }
   ],
   "source": [
    "list=[12,43,23,64,37,94]\n",
    "max=max(list)\n",
    "min=min(list)\n",
    "def normalized(n):\n",
    "    a=(n-min)/(max-min)\n",
    "    return a\n",
    "list1=[normalized(i) for i in list]\n",
    "print(list)\n",
    "import matplotlib.pyplot as plt\n",
    "plt.plot(list,list1)"
   ]
  },
  {
   "cell_type": "markdown",
   "id": "f7a7c14a-fa0e-4deb-ac33-8da93f3312fe",
   "metadata": {},
   "source": [
    "**quesion23**"
   ]
  },
  {
   "cell_type": "code",
   "execution_count": 93,
   "id": "3b822833-8bbd-4ec8-8cf3-02cc33e04836",
   "metadata": {},
   "outputs": [
    {
     "name": "stdin",
     "output_type": "stream",
     "text": [
      " 25\n"
     ]
    },
    {
     "name": "stdout",
     "output_type": "stream",
     "text": [
      "odd\n"
     ]
    }
   ],
   "source": [
    "n=int(input())\n",
    "if n%2==1:\n",
    "    print('odd')\n",
    "else:\n",
    "    print('even')"
   ]
  },
  {
   "cell_type": "markdown",
   "id": "7e72ede3-068a-4a95-8ef3-82f6d43c2f7d",
   "metadata": {},
   "source": [
    "**question24**"
   ]
  },
  {
   "cell_type": "code",
   "execution_count": 94,
   "id": "aaf771cd-e12b-467a-b54b-07507f8d0670",
   "metadata": {},
   "outputs": [
    {
     "name": "stdin",
     "output_type": "stream",
     "text": [
      " 97\n"
     ]
    },
    {
     "name": "stdout",
     "output_type": "stream",
     "text": [
      "A\n"
     ]
    }
   ],
   "source": [
    "n=int(input())\n",
    "if 100>=n>=0:\n",
    "    if n>90:\n",
    "        print('A')\n",
    "    elif 90>=n>85:\n",
    "        print('B')\n",
    "    elif 85>=n>80:\n",
    "        print('c')\n",
    "    elif 80>=n>75:\n",
    "        print('D')\n",
    "    else:\n",
    "        print('F')\n",
    "else:\n",
    "    print('invalid mark')"
   ]
  },
  {
   "cell_type": "markdown",
   "id": "89753da0-bce3-4aa4-9c88-2b1f8403c2a0",
   "metadata": {},
   "source": [
    "**question25**"
   ]
  },
  {
   "cell_type": "code",
   "execution_count": 95,
   "id": "a135c289-0202-4217-bf56-43e9206acf85",
   "metadata": {},
   "outputs": [
    {
     "name": "stdin",
     "output_type": "stream",
     "text": [
      " 2025\n"
     ]
    },
    {
     "name": "stdout",
     "output_type": "stream",
     "text": [
      "not leap year\n"
     ]
    }
   ],
   "source": [
    "n=int(input())\n",
    "a=n%4\n",
    "b=n%100\n",
    "c=n%400\n",
    "if a==0 and b!=0:\n",
    "    print('leap year')\n",
    "elif a==0 and b==0 and c==0:\n",
    "    print('leap year')\n",
    "else:\n",
    "    print('not leap year')"
   ]
  }
 ],
 "metadata": {
  "kernelspec": {
   "display_name": "Python 3 (ipykernel)",
   "language": "python",
   "name": "python3"
  },
  "language_info": {
   "codemirror_mode": {
    "name": "ipython",
    "version": 3
   },
   "file_extension": ".py",
   "mimetype": "text/x-python",
   "name": "python",
   "nbconvert_exporter": "python",
   "pygments_lexer": "ipython3",
   "version": "3.13.1"
  }
 },
 "nbformat": 4,
 "nbformat_minor": 5
}
